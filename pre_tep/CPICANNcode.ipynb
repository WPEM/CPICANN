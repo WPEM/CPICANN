{
 "cells": [
  {
   "cell_type": "markdown",
   "id": "f2299629",
   "metadata": {},
   "source": [
    "# It is a template for applying CPICANN to X-ray powder diffraction phase identification"
   ]
  },
  {
   "cell_type": "markdown",
   "id": "cad44131",
   "metadata": {},
   "source": [
    "### 1: install WPEMPhase package "
   ]
  },
  {
   "cell_type": "markdown",
   "id": "af59fa9d",
   "metadata": {},
   "source": [
    "pip install WPEMPhase"
   ]
  },
  {
   "cell_type": "markdown",
   "id": "7d9d6d02",
   "metadata": {},
   "source": [
    "### 2: The first time you execute CPICANN on your computer, you should initialize the system documents. After that, you do not need to do any additional execution to run CPICANN."
   ]
  },
  {
   "cell_type": "raw",
   "id": "4787c1b4",
   "metadata": {},
   "source": [
    "Annotate : \n",
    "\n",
    "CPICANN.PhaseIdentifier(\n",
    "    FilePath,\n",
    "    Task='single-phase',\n",
    "    ElementsSystem='',\n",
    "    ElementsContained='',\n",
    "    ElementsExclude='',\n",
    "    Device='cuda:0',\n",
    "    CIFfiles=None,\n",
    "    NNparam=None,\n",
    ")\n",
    "\n",
    ":param FilePath \n",
    "\n",
    ":param Task, type=str, default='single-phase'\n",
    "    if Task = 'single-phase', CPICANN executes a single phase identification task\n",
    "    if Task = 'di-phase', CPICANN executes a dual phase identification task\n",
    "\n",
    ":param ElementsSystem, type=str, default=''\n",
    "    Specifies the elements to be included at least in the prediction, example: 'Fe'.\n",
    "\n",
    ":param ElementsContained, type=str, default=''\n",
    "    Specifies the elements to be included, with at least one of them in the prediction, example: 'O_C_S'.\n",
    "\n",
    ":param ElementsExclude, type=str, default=''\n",
    "    Specifies the elements to be excluded in the prediction, example: 'Fe_O'\n",
    "\n",
    ":param Device, type=str, default='cuda:0',\n",
    "    Which device to run the CPICANN, example: 'cuda:0', 'cpu'.\n",
    "    \n",
    "\n",
    "examples:\n",
    "from WPEMPhase import CPICANN\n",
    "CPICANN.PhaseIdentifier(FilePath='./single-phase',Device='cpu')"
   ]
  },
  {
   "cell_type": "code",
   "execution_count": 1,
   "id": "8e1680a6",
   "metadata": {},
   "outputs": [],
   "source": [
    "from WPEMPhase import CPICANN"
   ]
  },
  {
   "cell_type": "code",
   "execution_count": 2,
   "id": "7625eb66",
   "metadata": {},
   "outputs": [
    {
     "name": "stdout",
     "output_type": "stream",
     "text": [
      "This is the first time CPICANN is being executed on your computer, configuring...\n",
      "Downloading: 5% [24748032 / 455696164] bytes"
     ]
    },
    {
     "name": "stderr",
     "output_type": "stream",
     "text": [
      "IOPub message rate exceeded.\n",
      "The notebook server will temporarily stop sending output\n",
      "to the client in order to avoid crashing it.\n",
      "To change this limit, set the config variable\n",
      "`--NotebookApp.iopub_msg_rate_limit`.\n",
      "\n",
      "Current values:\n",
      "NotebookApp.iopub_msg_rate_limit=1000.0 (msgs/sec)\n",
      "NotebookApp.rate_limit_window=3.0 (secs)\n",
      "\n"
     ]
    },
    {
     "name": "stdout",
     "output_type": "stream",
     "text": [
      "Downloading: 13% [63037440 / 455696164] bytes"
     ]
    },
    {
     "name": "stderr",
     "output_type": "stream",
     "text": [
      "IOPub message rate exceeded.\n",
      "The notebook server will temporarily stop sending output\n",
      "to the client in order to avoid crashing it.\n",
      "To change this limit, set the config variable\n",
      "`--NotebookApp.iopub_msg_rate_limit`.\n",
      "\n",
      "Current values:\n",
      "NotebookApp.iopub_msg_rate_limit=1000.0 (msgs/sec)\n",
      "NotebookApp.rate_limit_window=3.0 (secs)\n",
      "\n"
     ]
    },
    {
     "name": "stdout",
     "output_type": "stream",
     "text": [
      "Downloading: 31% [145244160 / 455696164] bytes"
     ]
    },
    {
     "name": "stderr",
     "output_type": "stream",
     "text": [
      "IOPub message rate exceeded.\n",
      "The notebook server will temporarily stop sending output\n",
      "to the client in order to avoid crashing it.\n",
      "To change this limit, set the config variable\n",
      "`--NotebookApp.iopub_msg_rate_limit`.\n",
      "\n",
      "Current values:\n",
      "NotebookApp.iopub_msg_rate_limit=1000.0 (msgs/sec)\n",
      "NotebookApp.rate_limit_window=3.0 (secs)\n",
      "\n"
     ]
    },
    {
     "name": "stdout",
     "output_type": "stream",
     "text": [
      "Downloading: 36% [166559744 / 455696164] bytes"
     ]
    },
    {
     "name": "stderr",
     "output_type": "stream",
     "text": [
      "IOPub message rate exceeded.\n",
      "The notebook server will temporarily stop sending output\n",
      "to the client in order to avoid crashing it.\n",
      "To change this limit, set the config variable\n",
      "`--NotebookApp.iopub_msg_rate_limit`.\n",
      "\n",
      "Current values:\n",
      "NotebookApp.iopub_msg_rate_limit=1000.0 (msgs/sec)\n",
      "NotebookApp.rate_limit_window=3.0 (secs)\n",
      "\n"
     ]
    },
    {
     "name": "stdout",
     "output_type": "stream",
     "text": [
      "Downloading: 39% [180740096 / 455696164] bytes"
     ]
    },
    {
     "name": "stderr",
     "output_type": "stream",
     "text": [
      "IOPub message rate exceeded.\n",
      "The notebook server will temporarily stop sending output\n",
      "to the client in order to avoid crashing it.\n",
      "To change this limit, set the config variable\n",
      "`--NotebookApp.iopub_msg_rate_limit`.\n",
      "\n",
      "Current values:\n",
      "NotebookApp.iopub_msg_rate_limit=1000.0 (msgs/sec)\n",
      "NotebookApp.rate_limit_window=3.0 (secs)\n",
      "\n"
     ]
    },
    {
     "name": "stdout",
     "output_type": "stream",
     "text": [
      "Downloading: 44% [202792960 / 455696164] bytes"
     ]
    },
    {
     "name": "stderr",
     "output_type": "stream",
     "text": [
      "IOPub message rate exceeded.\n",
      "The notebook server will temporarily stop sending output\n",
      "to the client in order to avoid crashing it.\n",
      "To change this limit, set the config variable\n",
      "`--NotebookApp.iopub_msg_rate_limit`.\n",
      "\n",
      "Current values:\n",
      "NotebookApp.iopub_msg_rate_limit=1000.0 (msgs/sec)\n",
      "NotebookApp.rate_limit_window=3.0 (secs)\n",
      "\n"
     ]
    },
    {
     "name": "stdout",
     "output_type": "stream",
     "text": [
      "Downloading: 48% [219004928 / 455696164] bytes"
     ]
    },
    {
     "name": "stderr",
     "output_type": "stream",
     "text": [
      "IOPub message rate exceeded.\n",
      "The notebook server will temporarily stop sending output\n",
      "to the client in order to avoid crashing it.\n",
      "To change this limit, set the config variable\n",
      "`--NotebookApp.iopub_msg_rate_limit`.\n",
      "\n",
      "Current values:\n",
      "NotebookApp.iopub_msg_rate_limit=1000.0 (msgs/sec)\n",
      "NotebookApp.rate_limit_window=3.0 (secs)\n",
      "\n"
     ]
    },
    {
     "name": "stdout",
     "output_type": "stream",
     "text": [
      "Downloading: 55% [252723200 / 455696164] bytes"
     ]
    },
    {
     "name": "stderr",
     "output_type": "stream",
     "text": [
      "IOPub message rate exceeded.\n",
      "The notebook server will temporarily stop sending output\n",
      "to the client in order to avoid crashing it.\n",
      "To change this limit, set the config variable\n",
      "`--NotebookApp.iopub_msg_rate_limit`.\n",
      "\n",
      "Current values:\n",
      "NotebookApp.iopub_msg_rate_limit=1000.0 (msgs/sec)\n",
      "NotebookApp.rate_limit_window=3.0 (secs)\n",
      "\n"
     ]
    },
    {
     "name": "stdout",
     "output_type": "stream",
     "text": [
      "Downloading: 61% [281034752 / 455696164] bytes"
     ]
    },
    {
     "name": "stderr",
     "output_type": "stream",
     "text": [
      "IOPub message rate exceeded.\n",
      "The notebook server will temporarily stop sending output\n",
      "to the client in order to avoid crashing it.\n",
      "To change this limit, set the config variable\n",
      "`--NotebookApp.iopub_msg_rate_limit`.\n",
      "\n",
      "Current values:\n",
      "NotebookApp.iopub_msg_rate_limit=1000.0 (msgs/sec)\n",
      "NotebookApp.rate_limit_window=3.0 (secs)\n",
      "\n"
     ]
    },
    {
     "name": "stdout",
     "output_type": "stream",
     "text": [
      "Downloading: 64% [294666240 / 455696164] bytes"
     ]
    },
    {
     "name": "stderr",
     "output_type": "stream",
     "text": [
      "IOPub message rate exceeded.\n",
      "The notebook server will temporarily stop sending output\n",
      "to the client in order to avoid crashing it.\n",
      "To change this limit, set the config variable\n",
      "`--NotebookApp.iopub_msg_rate_limit`.\n",
      "\n",
      "Current values:\n",
      "NotebookApp.iopub_msg_rate_limit=1000.0 (msgs/sec)\n",
      "NotebookApp.rate_limit_window=3.0 (secs)\n",
      "\n"
     ]
    },
    {
     "name": "stdout",
     "output_type": "stream",
     "text": [
      "Downloading: 71% [326582272 / 455696164] bytes"
     ]
    },
    {
     "name": "stderr",
     "output_type": "stream",
     "text": [
      "IOPub message rate exceeded.\n",
      "The notebook server will temporarily stop sending output\n",
      "to the client in order to avoid crashing it.\n",
      "To change this limit, set the config variable\n",
      "`--NotebookApp.iopub_msg_rate_limit`.\n",
      "\n",
      "Current values:\n",
      "NotebookApp.iopub_msg_rate_limit=1000.0 (msgs/sec)\n",
      "NotebookApp.rate_limit_window=3.0 (secs)\n",
      "\n"
     ]
    },
    {
     "name": "stdout",
     "output_type": "stream",
     "text": [
      "Downloading: 73% [337133568 / 455696164] bytes"
     ]
    },
    {
     "name": "stderr",
     "output_type": "stream",
     "text": [
      "IOPub message rate exceeded.\n",
      "The notebook server will temporarily stop sending output\n",
      "to the client in order to avoid crashing it.\n",
      "To change this limit, set the config variable\n",
      "`--NotebookApp.iopub_msg_rate_limit`.\n",
      "\n",
      "Current values:\n",
      "NotebookApp.iopub_msg_rate_limit=1000.0 (msgs/sec)\n",
      "NotebookApp.rate_limit_window=3.0 (secs)\n",
      "\n"
     ]
    },
    {
     "name": "stdout",
     "output_type": "stream",
     "text": [
      "Downloading: 80% [366354432 / 455696164] bytes"
     ]
    },
    {
     "name": "stderr",
     "output_type": "stream",
     "text": [
      "IOPub message rate exceeded.\n",
      "The notebook server will temporarily stop sending output\n",
      "to the client in order to avoid crashing it.\n",
      "To change this limit, set the config variable\n",
      "`--NotebookApp.iopub_msg_rate_limit`.\n",
      "\n",
      "Current values:\n",
      "NotebookApp.iopub_msg_rate_limit=1000.0 (msgs/sec)\n",
      "NotebookApp.rate_limit_window=3.0 (secs)\n",
      "\n"
     ]
    },
    {
     "name": "stdout",
     "output_type": "stream",
     "text": [
      "Downloading: 85% [390766592 / 455696164] bytes"
     ]
    },
    {
     "name": "stderr",
     "output_type": "stream",
     "text": [
      "IOPub message rate exceeded.\n",
      "The notebook server will temporarily stop sending output\n",
      "to the client in order to avoid crashing it.\n",
      "To change this limit, set the config variable\n",
      "`--NotebookApp.iopub_msg_rate_limit`.\n",
      "\n",
      "Current values:\n",
      "NotebookApp.iopub_msg_rate_limit=1000.0 (msgs/sec)\n",
      "NotebookApp.rate_limit_window=3.0 (secs)\n",
      "\n"
     ]
    },
    {
     "name": "stdout",
     "output_type": "stream",
     "text": [
      "Downloading: 88% [403808256 / 455696164] bytes"
     ]
    },
    {
     "name": "stderr",
     "output_type": "stream",
     "text": [
      "IOPub message rate exceeded.\n",
      "The notebook server will temporarily stop sending output\n",
      "to the client in order to avoid crashing it.\n",
      "To change this limit, set the config variable\n",
      "`--NotebookApp.iopub_msg_rate_limit`.\n",
      "\n",
      "Current values:\n",
      "NotebookApp.iopub_msg_rate_limit=1000.0 (msgs/sec)\n",
      "NotebookApp.rate_limit_window=3.0 (secs)\n",
      "\n"
     ]
    },
    {
     "name": "stdout",
     "output_type": "stream",
     "text": [
      "Downloading: 97% [442695680 / 455696164] bytes"
     ]
    },
    {
     "name": "stderr",
     "output_type": "stream",
     "text": [
      "IOPub message rate exceeded.\n",
      "The notebook server will temporarily stop sending output\n",
      "to the client in order to avoid crashing it.\n",
      "To change this limit, set the config variable\n",
      "`--NotebookApp.iopub_msg_rate_limit`.\n",
      "\n",
      "Current values:\n",
      "NotebookApp.iopub_msg_rate_limit=1000.0 (msgs/sec)\n",
      "NotebookApp.rate_limit_window=3.0 (secs)\n",
      "\n"
     ]
    },
    {
     "name": "stdout",
     "output_type": "stream",
     "text": [
      "Downloading: 100% [455696164 / 455696164] bytes  ____  ____   ___   ____     _     _   _  _   _ \n",
      " / ___||  _ \\ |_ _| / ___|   / \\   | \\ | || \\ | |\n",
      "| |    | |_) | | | | |      / _ \\  |  \\| ||  \\| |\n",
      "| |___ |  __/  | | | |___  / ___ \\ | |\\  || |\\  |\n",
      " \\____||_|    |___| \\____|/_/   \\_\\|_| \\_||_| \\_|\n",
      "                                                 \n",
      "\n",
      "The phase identification module of WPEM\n",
      "URL : https://github.com/WPEM/CPICANN\n",
      "Executed on : 2024-04-13 17:55:02  | Have a great day.\n",
      "================================================================================\n",
      "loaded model from /Users/jacob/miniconda3/lib/python3.9/site-packages/WPEMPhase/pretrained/DPID_single-phase.pth\n",
      "\n",
      ">>>>>> RUNNING: ./testdata/.DS_Store\n",
      "\n",
      ">>>>>> RUNNING: ./testdata/PbSO4.csv\n",
      "pred cls_id : 1215  confidence : 57.03%\n",
      "pred cod_id : 1537199  formula : K4 C3.8\n",
      "pred space group No: 71    space group : Immm\n",
      "\n",
      "inference result saved in infResults_testdata.csv\n",
      "inference figures saved at figs/\n",
      "THE END\n"
     ]
    },
    {
     "data": {
      "text/plain": [
       "True"
      ]
     },
     "execution_count": 2,
     "metadata": {},
     "output_type": "execute_result"
    }
   ],
   "source": [
    "# Here, illustrate the system requirements and how to initialize the system files at the first time of execution.\n",
    "\n",
    "CPICANN.PhaseIdentifier(FilePath='./testdata',Task='single-phase',Device='cpu',)"
   ]
  },
  {
   "cell_type": "code",
   "execution_count": 1,
   "id": "304b62b5",
   "metadata": {},
   "outputs": [
    {
     "name": "stdout",
     "output_type": "stream",
     "text": [
      "  ____  ____   ___   ____     _     _   _  _   _ \n",
      " / ___||  _ \\ |_ _| / ___|   / \\   | \\ | || \\ | |\n",
      "| |    | |_) | | | | |      / _ \\  |  \\| ||  \\| |\n",
      "| |___ |  __/  | | | |___  / ___ \\ | |\\  || |\\  |\n",
      " \\____||_|    |___| \\____|/_/   \\_\\|_| \\_||_| \\_|\n",
      "                                                 \n",
      "\n",
      "The phase identification module of WPEM\n",
      "URL : https://github.com/WPEM/CPICANN\n",
      "Executed on : 2024-04-15 09:50:05  | Have a great day.\n",
      "================================================================================\n",
      "loaded model from /Users/jacob/miniconda3/lib/python3.9/site-packages/WPEMPhase/pretrained/DPID_single-phase.pth\n",
      "\n",
      ">>>>>> RUNNING: ./testdata/.DS_Store\n",
      "\n",
      ">>>>>> RUNNING: ./testdata/PbSO4.csv\n",
      "pred cls_id : 1215  confidence : 57.03%\n",
      "pred cod_id : 1537199  formula : K4 C3.8\n",
      "pred space group No: 71    space group : Immm\n",
      "\n",
      "inference result saved in infResults_testdata.csv\n",
      "inference figures saved at figs/\n",
      "THE END\n"
     ]
    },
    {
     "data": {
      "text/plain": [
       "True"
      ]
     },
     "execution_count": 1,
     "metadata": {},
     "output_type": "execute_result"
    }
   ],
   "source": [
    "from WPEMPhase import CPICANN\n",
    "# Here, illustrate the system requirements and how to initialize the system files at the first time of execution.\n",
    "\n",
    "CPICANN.PhaseIdentifier(FilePath='./testdata',Task='single-phase',Device='cpu',)"
   ]
  },
  {
   "cell_type": "raw",
   "id": "977ede12",
   "metadata": {},
   "source": [
    "For inquiries or assistance, please don't hesitate to contact us at bcao686@connect.hkust-gz.edu.cn (Dr. CAO Bin)."
   ]
  },
  {
   "cell_type": "code",
   "execution_count": null,
   "id": "bb101480",
   "metadata": {},
   "outputs": [],
   "source": []
  }
 ],
 "metadata": {
  "kernelspec": {
   "display_name": "Python 3 (ipykernel)",
   "language": "python",
   "name": "python3"
  },
  "language_info": {
   "codemirror_mode": {
    "name": "ipython",
    "version": 3
   },
   "file_extension": ".py",
   "mimetype": "text/x-python",
   "name": "python",
   "nbconvert_exporter": "python",
   "pygments_lexer": "ipython3",
   "version": "3.9.12"
  }
 },
 "nbformat": 4,
 "nbformat_minor": 5
}
