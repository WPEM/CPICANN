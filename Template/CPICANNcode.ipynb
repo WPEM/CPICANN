{
 "cells": [
  {
   "cell_type": "markdown",
   "id": "f2299629",
   "metadata": {},
   "source": [
    "# It is a template for applying CPICANN to X-ray powder diffraction phase identification"
   ]
  },
  {
   "cell_type": "markdown",
   "id": "cad44131",
   "metadata": {},
   "source": [
    "### 1: install WPEMPhase package "
   ]
  },
  {
   "cell_type": "raw",
   "id": "42780362",
   "metadata": {},
   "source": [
    "pip install WPEMPhase"
   ]
  },
  {
   "cell_type": "markdown",
   "id": "7d9d6d02",
   "metadata": {},
   "source": [
    "### 2: The first time you execute CPICANN on your computer, you should initialize the system documents. After that, you do not need to do any additional execution to run CPICANN."
   ]
  },
  {
   "cell_type": "raw",
   "id": "4787c1b4",
   "metadata": {},
   "source": [
    "Annotate : \n",
    "\n",
    "CPICANN.PhaseIdentifier(\n",
    "    FilePath,\n",
    "    Task='single-phase',\n",
    "    ElementsSystem='',\n",
    "    ElementsContained='',\n",
    "    ElementsExclude='',\n",
    "    Device='cuda:0',\n",
    "    CIFfiles=None,\n",
    "    NNparam=None,\n",
    ")\n",
    "\n",
    ":param FilePath \n",
    "\n",
    ":param Task, type=str, default='single-phase'\n",
    "    if Task = 'single-phase', CPICANN executes a single phase identification task\n",
    "    if Task = 'di-phase', CPICANN executes a dual phase identification task\n",
    "\n",
    ":param ElementsSystem, type=str, default=''\n",
    "    Specifies the elements to be included at least in the prediction, example: 'Fe'.\n",
    "\n",
    ":param ElementsContained, type=str, default=''\n",
    "    Specifies the elements to be included, with at least one of them in the prediction, example: 'O_C_S'.\n",
    "\n",
    ":param ElementsExclude, type=str, default=''\n",
    "    Specifies the elements to be excluded in the prediction, example: 'Fe_O'\n",
    "\n",
    ":param Device, type=str, default='cuda:0',\n",
    "    Which device to run the CPICANN, example: 'cuda:0', 'cpu'.\n",
    "\n",
    ":param CIFfiles, type=str, default=None,\n",
    "    at the first time execution, user need to assign the location of cifs' database, viz. strucs.zip file we provided, \n",
    "\n",
    ":param NNparam, type=str, default=None,\n",
    "    at the first time execution, user need to assign the location of pretrained NN parameters, viz. pretrained.zip file we provided, \n",
    "\n",
    "examples:\n",
    "from WPEMPhase import CPICANN\n",
    "CPICANN.PhaseIdentifier(FilePath='./single-phase',Device='cpu')"
   ]
  },
  {
   "cell_type": "code",
   "execution_count": 1,
   "id": "8e1680a6",
   "metadata": {},
   "outputs": [],
   "source": [
    "from WPEMPhase import CPICANN"
   ]
  },
  {
   "cell_type": "code",
   "execution_count": null,
   "id": "7625eb66",
   "metadata": {},
   "outputs": [],
   "source": [
    "# Here, illustrate the system requirements and how to initialize the system files at the first time of execution.\n",
    "\n",
    "CPICANN.PhaseIdentifier(FilePath='./testdata',Task='single-phase',Device='cpu',)"
   ]
  },
  {
   "cell_type": "markdown",
   "id": "ca471942",
   "metadata": {},
   "source": [
    "### At the first time of execution, it shows the following reminder.\n",
    "+ This is the first time CPICANN is being executed on your computer. Please provide the file location of 'strucs.zip' using the parameter 'CIFfiles'.\n",
    "+ This is the first time CPICANN is being executed on your computer. Please provide the file location of 'pretrained.zip' using the parameter 'NNparam'.\n"
   ]
  },
  {
   "cell_type": "markdown",
   "id": "ec31bb30",
   "metadata": {},
   "source": [
    "### 'strucs.zip' and 'pretrained.zip' are provided in the folder named SystemFiles. [github](https://github.com/WPEM/CPICANN)"
   ]
  },
  {
   "cell_type": "markdown",
   "id": "614ff194",
   "metadata": {},
   "source": [
    "### 3: assign needed system files for CPICANN"
   ]
  },
  {
   "cell_type": "code",
   "execution_count": 10,
   "id": "e4541329",
   "metadata": {},
   "outputs": [
    {
     "name": "stdout",
     "output_type": "stream",
     "text": [
      "/Users/jacob/miniconda3/lib/python3.9/site-packages/strucs\n",
      "  ____  ____   ___   ____     _     _   _  _   _ \n",
      " / ___||  _ \\ |_ _| / ___|   / \\   | \\ | || \\ | |\n",
      "| |    | |_) | | | | |      / _ \\  |  \\| ||  \\| |\n",
      "| |___ |  __/  | | | |___  / ___ \\ | |\\  || |\\  |\n",
      " \\____||_|    |___| \\____|/_/   \\_\\|_| \\_||_| \\_|\n",
      "                                                 \n",
      "\n",
      "The phase identification module of WPEM\n",
      "URL : https://github.com/WPEM/CPICANN\n",
      "Executed on : 2024-01-28 10:34:07  | Have a great day.\n",
      "================================================================================\n",
      "loaded model from /Users/jacob/miniconda3/lib/python3.9/site-packages/WPEMPhase/pretrained/DPID_single-phase.pth\n",
      "\n",
      ">>>>>> RUNNING: ./testdata/.DS_Store\n",
      "\n",
      ">>>>>> RUNNING: ./testdata/PbSO4.csv\n",
      "pred cls_id : 3378  confidence : 99.62%\n",
      "pred cod_id : 9004484  formula : Pb4 S4 O16\n",
      "pred space group No: 62    space group : Pnma\n",
      "\n",
      "inference result saved in infResults_testdata.csv\n",
      "inference figures saved at figs/\n",
      "THE END\n"
     ]
    },
    {
     "data": {
      "text/plain": [
       "True"
      ]
     },
     "execution_count": 10,
     "metadata": {},
     "output_type": "execute_result"
    }
   ],
   "source": [
    "CPICANN.PhaseIdentifier(FilePath='./testdata',Task='single-phase',Device='cpu',ElementsSystem='Pb_S_O',\n",
    "                        CIFfiles='../SystemFiles/strucs.zip', NNparam='../SystemFiles/pretrained.zip',)"
   ]
  },
  {
   "cell_type": "markdown",
   "id": "7ccf8740",
   "metadata": {},
   "source": [
    "### 4: System initialization is complete. You can now use CPICANN without having to assign files anymore **on this computer**."
   ]
  },
  {
   "cell_type": "code",
   "execution_count": 11,
   "id": "1f7ffbf7",
   "metadata": {},
   "outputs": [
    {
     "name": "stdout",
     "output_type": "stream",
     "text": [
      "/Users/jacob/miniconda3/lib/python3.9/site-packages/strucs\n",
      "  ____  ____   ___   ____     _     _   _  _   _ \n",
      " / ___||  _ \\ |_ _| / ___|   / \\   | \\ | || \\ | |\n",
      "| |    | |_) | | | | |      / _ \\  |  \\| ||  \\| |\n",
      "| |___ |  __/  | | | |___  / ___ \\ | |\\  || |\\  |\n",
      " \\____||_|    |___| \\____|/_/   \\_\\|_| \\_||_| \\_|\n",
      "                                                 \n",
      "\n",
      "The phase identification module of WPEM\n",
      "URL : https://github.com/WPEM/CPICANN\n",
      "Executed on : 2024-01-28 10:35:41  | Have a great day.\n",
      "================================================================================\n",
      "loaded model from /Users/jacob/miniconda3/lib/python3.9/site-packages/WPEMPhase/pretrained/DPID_single-phase.pth\n",
      "\n",
      ">>>>>> RUNNING: ./testdata/.DS_Store\n",
      "\n",
      ">>>>>> RUNNING: ./testdata/PbSO4.csv\n",
      "pred cls_id : 3378  confidence : 99.62%\n",
      "pred cod_id : 9004484  formula : Pb4 S4 O16\n",
      "pred space group No: 62    space group : Pnma\n",
      "\n",
      "inference result saved in infResults_testdata.csv\n",
      "inference figures saved at figs/\n",
      "THE END\n"
     ]
    },
    {
     "data": {
      "text/plain": [
       "True"
      ]
     },
     "execution_count": 11,
     "metadata": {},
     "output_type": "execute_result"
    }
   ],
   "source": [
    "CPICANN.PhaseIdentifier(FilePath='./testdata',Task='single-phase',Device='cpu',ElementsSystem='Pb_S_O',)"
   ]
  },
  {
   "cell_type": "raw",
   "id": "977ede12",
   "metadata": {},
   "source": [
    "For inquiries or assistance, please don't hesitate to contact us at bcao686@connect.hkust-gz.edu.cn (Dr. CAO Bin)."
   ]
  },
  {
   "cell_type": "code",
   "execution_count": null,
   "id": "bb101480",
   "metadata": {},
   "outputs": [],
   "source": []
  }
 ],
 "metadata": {
  "kernelspec": {
   "display_name": "Python 3 (ipykernel)",
   "language": "python",
   "name": "python3"
  },
  "language_info": {
   "codemirror_mode": {
    "name": "ipython",
    "version": 3
   },
   "file_extension": ".py",
   "mimetype": "text/x-python",
   "name": "python",
   "nbconvert_exporter": "python",
   "pygments_lexer": "ipython3",
   "version": "3.9.12"
  }
 },
 "nbformat": 4,
 "nbformat_minor": 5
}
